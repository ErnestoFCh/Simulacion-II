{
  "nbformat": 4,
  "nbformat_minor": 0,
  "metadata": {
    "colab": {
      "provenance": [],
      "authorship_tag": "ABX9TyOmyrOehrf99JXYz8h5TyNE",
      "include_colab_link": true
    },
    "kernelspec": {
      "name": "python3",
      "display_name": "Python 3"
    },
    "language_info": {
      "name": "python"
    }
  },
  "cells": [
    {
      "cell_type": "markdown",
      "metadata": {
        "id": "view-in-github",
        "colab_type": "text"
      },
      "source": [
        "<a href=\"https://colab.research.google.com/github/ErnestoFCh/Simulacion-II/blob/main/Serpientes_escaleras.ipynb\" target=\"_parent\"><img src=\"https://colab.research.google.com/assets/colab-badge.svg\" alt=\"Open In Colab\"/></a>"
      ]
    },
    {
      "cell_type": "code",
      "source": [
        "import random as rd"
      ],
      "metadata": {
        "id": "pOvnUWVjeni2"
      },
      "execution_count": 4,
      "outputs": []
    },
    {
      "cell_type": "code",
      "execution_count": 5,
      "metadata": {
        "id": "B8yX6xbabbbp"
      },
      "outputs": [],
      "source": [
        "def ladders_snakes(N):\n",
        "  ldd_sks={3:11,15:19,17:10,13:4}  #aqui se encuentran las escaleras y serpientes y las casillas a las que te llevan\n",
        "  if N in ldd_sks: #evaluamos si hemos caido en una casilla del diccionario\n",
        "    return ldd_sks[N]  #regresamos o avanzamos si es que caimos en una serpiente o escalera\n",
        "  else :\n",
        "    return N #de lo contrario seguimos en la misma posicion hasta el siguiente tiro"
      ]
    },
    {
      "cell_type": "code",
      "source": [
        "def serpientes_escaleras():\n",
        "\n",
        "  position = 0\n",
        "  tiros = 0\n",
        "  status = True\n",
        "  while status == True:\n",
        "\n",
        "    d1 = rd.randint(1,6) #tiramos dado\n",
        "    tiros += 1           #contamos el numero de tiros\n",
        "    position = position + d1 #avanzamos el numero de posiciones segun lo que nos salio en el dado\n",
        "    pst=ladders_snakes(position)  #analizamso si callo en una casilla de serpiente o escalera\n",
        "    position = pst                #tomamos la posicion despues del analisis\n",
        "    if position > 20:            #evaluamos si caimos en una posicion mas alla de la casilla ganadora\n",
        "      pst = 20 - (position - 20)    #retrocedemos segun el residuo obtenido\n",
        "      position = ladders_snakes(pst)  #tomamos la posicion resultado de la resta anterior\n",
        "    if position == 20:           #evaluamos si hemos ganado el juego\n",
        "      status = False             #terminamos el juego\n",
        "\n",
        "  return tiros                  #retornamos el numero de lanzamientos de dados que hicimos para ganar el juego"
      ],
      "metadata": {
        "id": "96YTTH23eeBe"
      },
      "execution_count": 6,
      "outputs": []
    },
    {
      "cell_type": "code",
      "source": [
        "def estimacion_tiros(N):\n",
        "  tiros=[]\n",
        "  for i in range(N):\n",
        "    tiros.append(serpientes_escaleras())\n",
        "  return sum(tiros)/N"
      ],
      "metadata": {
        "id": "-9o8hJ9CVr6z"
      },
      "execution_count": 7,
      "outputs": []
    },
    {
      "cell_type": "markdown",
      "source": [
        "#¿Cuál es, en promedio, el número de tiradas necesarias para terminar el juego? Considerar que cada tirada se hace con un dado ordinario."
      ],
      "metadata": {
        "id": "KlINY0z1WJf3"
      }
    },
    {
      "cell_type": "code",
      "source": [
        "print(\"Promedio de tiros: \", estimacion_tiros(10000))"
      ],
      "metadata": {
        "colab": {
          "base_uri": "https://localhost:8080/"
        },
        "id": "kA4FirorWAwq",
        "outputId": "e689dcfe-0349-41f3-c425-861da7fbc46b"
      },
      "execution_count": 9,
      "outputs": [
        {
          "output_type": "stream",
          "name": "stdout",
          "text": [
            "Promedio de tiros:  13.7416\n"
          ]
        }
      ]
    },
    {
      "cell_type": "code",
      "source": [
        "def estimacion(N):\n",
        "  exitos=[]\n",
        "  for i in range(N):\n",
        "\n",
        "    jugador1=serpientes_escaleras()  #hacemos que el jugador 1 juegue hasta ganar\n",
        "    jugador2=serpientes_escaleras()  #hacemos que el jugador 2 juegue hasta ganar\n",
        "\n",
        "    if jugador1<jugador2:  #si el numero de tiros del jugador 1 es menor al del jugador 2, gano si es que hubiesen jugado en simultaneo\n",
        "      exitos.append(1)    #se registra un exito\n",
        "\n",
        "    prob=sum(exitos)/N  #se calcula la probabilidad de ganar\n",
        "  return prob"
      ],
      "metadata": {
        "id": "6IvaMtfKlsCP"
      },
      "execution_count": 10,
      "outputs": []
    },
    {
      "cell_type": "code",
      "source": [
        "print(estimacion(10000))"
      ],
      "metadata": {
        "colab": {
          "base_uri": "https://localhost:8080/"
        },
        "id": "d0nSw6GGpWU1",
        "outputId": "cf7e1688-3cad-4bb0-bbf5-c6cbd9789fcd"
      },
      "execution_count": 11,
      "outputs": [
        {
          "output_type": "stream",
          "name": "stdout",
          "text": [
            "0.4856\n"
          ]
        }
      ]
    }
  ]
}