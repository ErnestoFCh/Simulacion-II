{
  "nbformat": 4,
  "nbformat_minor": 0,
  "metadata": {
    "colab": {
      "provenance": [],
      "authorship_tag": "ABX9TyPM2w+no4JMnRzO9xbQFnnj",
      "include_colab_link": true
    },
    "kernelspec": {
      "name": "python3",
      "display_name": "Python 3"
    },
    "language_info": {
      "name": "python"
    }
  },
  "cells": [
    {
      "cell_type": "markdown",
      "metadata": {
        "id": "view-in-github",
        "colab_type": "text"
      },
      "source": [
        "<a href=\"https://colab.research.google.com/github/ErnestoFCh/Simulacion-II/blob/main/Simpy_Cine.ipynb\" target=\"_parent\"><img src=\"https://colab.research.google.com/assets/colab-badge.svg\" alt=\"Open In Colab\"/></a>"
      ]
    },
    {
      "cell_type": "markdown",
      "source": [
        "## 1. Entorno de Simulación (`Environment`)\n",
        "\n",
        "El `Environment` es el núcleo de la simulación en `SimPy`. Este objeto controla el tiempo y coordina los eventos en la simulación.\n",
        "Creacion de entorno:\n",
        "\n",
        "\n",
        "```\n",
        " env= simpy.Environment()\n",
        "```\n",
        "Con `env.run(until=TIEMPO_SIMULACION)`, haces avanzar la simulación hasta el tiempo especificado.\n",
        "\n",
        "\n",
        "```\n",
        "env.run(until= 20) #20 unidades de tiempo\n",
        "```\n",
        "\n",
        "\n"
      ],
      "metadata": {
        "id": "DJLxl5fTfOxD"
      }
    },
    {
      "cell_type": "markdown",
      "source": [
        "## 2. Procesos\n",
        "Un proceso en `SimPy` representa una entidad que experimenta cambios a lo largo del tiempo. Los procesos en `SimPy` se crean usando funciones de Python que incluyen al menos un `yield`.\n",
        "\n",
        "Definir un proceso permite que las funciones \"pausen\" su ejecución y esperen a que termine un evento determinado usando `yield`.\n",
        "\n",
        "Ejemplo:\n",
        "\n",
        "\n",
        "```\n",
        "def proceso_cliente(env):\n",
        "    print(f\"Cliente llega en el minuto {env.now}\")\n",
        "    yield env.timeout(5)  # Simula una pausa de 5 minutos\n",
        "    print(f\"Cliente termina en el minuto {env.now}\")\n",
        "env.process(proceso_cliente(env))\n",
        "```\n",
        "\n"
      ],
      "metadata": {
        "id": "GRkEypfqgC5q"
      }
    },
    {
      "cell_type": "markdown",
      "source": [
        "## 3. Eventos (`Timeout` y `Process`)\n",
        "Un evento es una ocurrencia que sucede en un tiempo específico.\n",
        "Los eventos más comunes en `SimPy` son:\n",
        "\n",
        "`timeout`: Representa un tiempo de espera antes de que ocurra el siguiente evento. En el ejemplo anterior:\n",
        "\n",
        "\n",
        "```\n",
        "yield env.timeout(5)  # Pausa el proceso durante 5 unidades de tiempo (en este caso minutos)\n",
        "```\n",
        "\n",
        "`process`: Inicia otro proceso o subproceso dentro de un proceso.\n",
        "\n",
        "\n",
        "```\n",
        "cliente = env.process(proceso_cliente(env)) #inicia el proceso: proceso_cliente\n",
        "\n",
        "```"
      ],
      "metadata": {
        "id": "zt3iTKEPg8nS"
      }
    },
    {
      "cell_type": "markdown",
      "source": [
        "## 4. Recursos (`Resource`)\n",
        "\n",
        "Un recurso representa algo que puede ser utilizado por los procesos y está limitado en cantidad, como cajeros, máquinas o empleados.\n",
        "En `SimPy`, puedes crear recursos usando `simpy.Resource(env, capacity=n)`, donde `capacity` define cuántos procesos pueden usar el recurso al mismo tiempo.\n",
        "\n",
        "Ejemplo:\n",
        "\n",
        "\n",
        "\n",
        "```\n",
        "cajero = simpy.Resource(env, capacity=1)  # Solo un cliente puede ser atendido a la vez\n",
        "\n",
        "with cajero.request() as solicitud:\n",
        "    yield solicitud  # Espera hasta que el recurso esté disponible\n",
        "    yield env.timeout(3)  # Simula un tiempo de servicio de 3 minutos\n",
        "```\n",
        "Nota:  `with cajero.request() as solicitud`: Crea una solicitud para usar el recurso cajero. Aquí el cliente solicita al cajero para poder ser atendido.\n",
        "\n"
      ],
      "metadata": {
        "id": "7iDUmmuFjONa"
      }
    },
    {
      "cell_type": "markdown",
      "source": [
        "## 5. Generadores y Distribuciones Aleatorias\n",
        "`SimPy` usa generadores para manejar la llegada de entidades y la duración de eventos en tiempos aleatorios, usando distribuciones como la exponencial (por ejemplo, para modelar intervalos entre llegadas de clientes) o la normal.\n",
        "\n",
        "Ejemplo:\n",
        "Generaremos un tiempo de llegada entre clientes:\n",
        "\n",
        "\n",
        "```\n",
        "tiempo_llegada = random.expovariate(1.0 / INTERVALO_LLEGADA) #definimos un tiempo de llegada\n",
        "yield env.timeout(tiempo_llegada) #se detiene en unidades de tiempo establecidos por: \"tiempo_llegada\"\n",
        "```\n",
        "\n",
        "\n"
      ],
      "metadata": {
        "id": "wNgZhtv8kj9-"
      }
    },
    {
      "cell_type": "markdown",
      "source": [
        "## Cola en dulceria de Cinepolis.\n",
        "Simularemos un cola de Cinepolis un domingo con función estelar con los siguientes datos, estos datos son en base a la experiencia.\n",
        "\n",
        "- Tiempo en caja: entre 2 y 5 minutos\n",
        "- Tiempo de llegada entre clientes: 2 minutos\n",
        "- Numero de cajas: 1\n",
        "- El tiempo de proyeccion entre funciones es de 19 min.\n",
        "\n",
        "Además el siguiente código es una adaptacion del codigo presentado en clase, esto para fines didacticos y para comprender mejor el uso de la libreria `simpy`. Se haran comentarios del codigo.\n",
        "\n",
        "Autor del código: `Vixuz144.`\n",
        "\n",
        "Adaptado por: Ernesto Franco."
      ],
      "metadata": {
        "id": "vkYTMIS2lUdk"
      }
    },
    {
      "cell_type": "code",
      "source": [
        "import pkg_resources  #Revisamos si la libreria simpy esta instalada o no para ahorra tiempo de ejecucion\n",
        "package_name = 'simpy'\n",
        "installed_packages = [pkg.key for pkg in pkg_resources.working_set]\n",
        "\n",
        "if package_name not in installed_packages:\n",
        "    !pip install simpy"
      ],
      "metadata": {
        "id": "_3NKvMqen3NI"
      },
      "execution_count": 1,
      "outputs": []
    },
    {
      "cell_type": "code",
      "source": [
        "import matplotlib.pyplot as plt  #Importamos las librerias que se usaran\n",
        "import numpy as np\n",
        "from random import random, seed\n",
        "import pandas as pd\n",
        "import simpy"
      ],
      "metadata": {
        "id": "87RiGQrVqKSB"
      },
      "execution_count": 2,
      "outputs": []
    },
    {
      "cell_type": "code",
      "source": [
        "def cine(env, boleto, nc, texto=True): #funcion cine que corresponde a la llegada de clientes al cine\n",
        "    global  ll, cifras, dur_venta, t_esp, fin_sim, LTLL, LC, LS\n",
        "\n",
        "    for i in range(nc):\n",
        "        #Llegada del cliente\n",
        "        r = random()\n",
        "        tll = -np.log(r)/ll\n",
        "        yield env.timeout(tll)  #tiempo de espera de tll unidades de tiempo\n",
        "        LTLL.append(env.now)    #se guardan las unidades de tiempo\n",
        "        if texto:\n",
        "          print(f'----Ha llegado el cliente número {i} en el minuto {round(env.now, cifras)}----')\n",
        "\n",
        "        env.process(transaccion(env, boleto, i, texto)) #iniciamos el proceso transaccion"
      ],
      "metadata": {
        "id": "a3h6P1fCoghF"
      },
      "execution_count": 3,
      "outputs": []
    },
    {
      "cell_type": "markdown",
      "source": [
        "Notas:\n",
        "\n",
        "Variable globales: Las variables `ll`, `cifras`, `dur_venta`, `t_esp`, `fin_sim`, `LTLL`, `LC` y `LS` son declaradas como globales. Quiere decir que cualquier cambio que se haga a estas variables dentro de la función `cine` afectará a las variables globales con los mismos nombres fuera de la función."
      ],
      "metadata": {
        "id": "pN7ZKFpa6R2q"
      }
    },
    {
      "cell_type": "code",
      "source": [
        "def transaccion(env, boleto, num, texto=True): #funcion transaccion que corresponde a la venta de productos al cliente\n",
        "    global tc_min, tc_max, cifras, dur_venta, LC, LS\n",
        "    a, b = tc_min, tc_max\n",
        "    #Solicitud de venta\n",
        "    with boleto.request() as sol:\n",
        "        yield sol\n",
        "\n",
        "        #Inicia la venta\n",
        "\n",
        "        #Se genera el tiempo de venta\n",
        "        r = random()\n",
        "        tc = a + (b-a)*r\n",
        "        dur_venta += tc\n",
        "        LC.append(tc)\n",
        "        if texto:\n",
        "          print(f'****Inicia la venta del cliente {num} en el minuto {round(env.now, cifras)}****')\n",
        "        #Se suma el tiempo a la line ade tiempo actual\n",
        "        yield env.timeout(tc)\n",
        "\n",
        "        #Muestra un mensaje al término de venta\n",
        "        LS.append(env.now)\n",
        "        if texto:\n",
        "          print(f'xxxTermina la venta del cliente {num} en el minuto {round(env.now, cifras)}xxx')\n",
        "        return tc"
      ],
      "metadata": {
        "id": "s-hyJQH9pm7g"
      },
      "execution_count": 4,
      "outputs": []
    },
    {
      "cell_type": "code",
      "source": [
        "global tc_min, tc_max, ll, no_cajas, cifras\n",
        "semilla = 13\n",
        "seed(semilla)\n",
        "\n",
        "no_cajas = 1  #definimos el numero de cajas\n",
        "tc_min = 2    #tiempo minimo de atencion en caja\n",
        "tc_max = 5    #tiempo maximo de atencion en caja\n",
        "ll = 1/2      #Tasa media de llegadas\n",
        "clientes = 3  #numero de clientes de estudio\n",
        "cifras = 2    #cifras decimales"
      ],
      "metadata": {
        "id": "-RNxJFaMppwJ"
      },
      "execution_count": 5,
      "outputs": []
    },
    {
      "cell_type": "code",
      "source": [
        "global t_esp, dur_venta, fin_sim, LTLL, LC, LS  #estas variables ayudan a recopilar informacion de la simulacion\n",
        "t_esp = 0\n",
        "dur_venta = 0\n",
        "fin_sim = 0\n",
        "\n",
        "LTLL, LC, LS = [], [], []"
      ],
      "metadata": {
        "id": "MIVASZzoprcU"
      },
      "execution_count": 6,
      "outputs": []
    },
    {
      "cell_type": "code",
      "source": [
        "ent = simpy.Environment() #Creamos las variables de entorno y recursos.\n",
        "boleto = simpy.Resource(ent, capacity=no_cajas)"
      ],
      "metadata": {
        "id": "oMCCSaWpptSK"
      },
      "execution_count": 7,
      "outputs": []
    },
    {
      "cell_type": "code",
      "source": [
        "ent.process(cine(ent, boleto, clientes)) #Creamos la simulación a travéz del comando process."
      ],
      "metadata": {
        "colab": {
          "base_uri": "https://localhost:8080/"
        },
        "id": "aPLK7ah5pvBn",
        "outputId": "c414f295-6269-4efd-f1b7-2384916fadd4"
      },
      "execution_count": 8,
      "outputs": [
        {
          "output_type": "execute_result",
          "data": {
            "text/plain": [
              "<Process(cine) object at 0x7d9c23d6fb80>"
            ]
          },
          "metadata": {},
          "execution_count": 8
        }
      ]
    },
    {
      "cell_type": "code",
      "source": [
        "ent.run() #Ejecuta la simulación durante 19 minutos"
      ],
      "metadata": {
        "colab": {
          "base_uri": "https://localhost:8080/"
        },
        "id": "Su6ki62IpwmC",
        "outputId": "c6be5f88-a1d6-42c8-c40c-341a3af5272a"
      },
      "execution_count": 9,
      "outputs": [
        {
          "output_type": "stream",
          "name": "stdout",
          "text": [
            "----Ha llegado el cliente número 0 en el minuto 2.7----\n",
            "****Inicia la venta del cliente 0 en el minuto 2.7****\n",
            "----Ha llegado el cliente número 1 en el minuto 3.46----\n",
            "----Ha llegado el cliente número 2 en el minuto 3.78----\n",
            "xxxTermina la venta del cliente 0 en el minuto 6.75xxx\n",
            "****Inicia la venta del cliente 1 en el minuto 6.75****\n",
            "xxxTermina la venta del cliente 1 en el minuto 9.31xxx\n",
            "****Inicia la venta del cliente 2 en el minuto 9.31****\n",
            "xxxTermina la venta del cliente 2 en el minuto 12.0xxx\n"
          ]
        }
      ]
    },
    {
      "cell_type": "code",
      "source": [
        "LTLL, LC, LS = np.array(LTLL), np.array(LC), np.array(LS)\n",
        "t_esp = sum(LS - LTLL - LC)\n",
        "fin_sim = ent.now"
      ],
      "metadata": {
        "id": "Hmxh-1hjpySU"
      },
      "execution_count": 10,
      "outputs": []
    },
    {
      "cell_type": "code",
      "source": [
        "print(LTLL)   #presentamos los recuentos de la simulación así como sus resultados.\n",
        "print(LC)\n",
        "print(LS)\n",
        "print(t_esp, dur_venta, fin_sim)"
      ],
      "metadata": {
        "colab": {
          "base_uri": "https://localhost:8080/"
        },
        "id": "PeFJj5bDp0CX",
        "outputId": "12aaa565-7418-4b44-8ff5-deeee4ff2a2c"
      },
      "execution_count": 11,
      "outputs": [
        {
          "output_type": "stream",
          "name": "stdout",
          "text": [
            "[2.70178886 3.45770862 3.78430906]\n",
            "[4.05224575 2.55717252 2.69167583]\n",
            "[ 6.75403462  9.31120714 12.00288297]\n",
            "8.823224069012545 9.301094102565942 12.002882965113615\n"
          ]
        }
      ]
    },
    {
      "cell_type": "code",
      "source": [
        "dato1 = f'Longitud promedio de la cola (fila): {round(t_esp/fin_sim, 2)} personas en cola'\n",
        "print(dato1)\n",
        "\n",
        "dato2=f'Tiempo de espera promedio: {round(t_esp/clientes,2)} minutos'\n",
        "print(dato2)\n",
        "\n",
        "print(f'Uso promedio de la instalación: {round(100 * dur_venta/fin_sim,2)}%')"
      ],
      "metadata": {
        "colab": {
          "base_uri": "https://localhost:8080/"
        },
        "id": "9qTG_bARp2Fk",
        "outputId": "0e8c61f8-2c1a-4d2b-9afb-19a76348ea09"
      },
      "execution_count": 12,
      "outputs": [
        {
          "output_type": "stream",
          "name": "stdout",
          "text": [
            "Longitud promedio de la cola (fila): 0.74 personas en cola\n",
            "Tiempo de espera promedio: 2.94 minutos\n",
            "Uso promedio de la instalación: 77.49%\n"
          ]
        }
      ]
    },
    {
      "cell_type": "markdown",
      "source": [
        "Generaremos el experimento para ver que sucede en el cine con el paso de los días. Esto quiere decir que no tomares en cuenta los datos anteriores, ahora seran los datos para un dia normal.Para lo cual usaremos la siguiente función.\n",
        "\n",
        "- Tiempo en caja: entre 2 y 5 minutos\n",
        "- Tiempo de llegada entre clientes: 5 minutos\n",
        "- Numero de cajas: 1\n",
        "- El tiempo de proyeccion entre funciones es de 19 min."
      ],
      "metadata": {
        "id": "wXxxPvzR9lAf"
      }
    },
    {
      "cell_type": "code",
      "execution_count": 13,
      "metadata": {
        "id": "XeKsCQJ86x62"
      },
      "outputs": [],
      "source": [
        "def exp(n): #definimos la funcion experimento, el cual se repite n-veces\n",
        "  global tc_min, tc_max, ll, no_cajas, t_esp, dur_venta, fin_sim, LTLL, LC, LS\n",
        "\n",
        "  no_cajas = 1\n",
        "  tc_min = 2\n",
        "  tc_max = 5\n",
        "  ll = 1/5\n",
        "  clientes = 3\n",
        "  cifras = 2\n",
        "\n",
        "  long_cola = []\n",
        "  tiempo_esp = []\n",
        "  uso = []\n",
        "#Volvemos definir el Environment pero esta vez se repite n-veces\n",
        "  for _ in range(n):\n",
        "    t_esp = 0\n",
        "    dur_venta = 0\n",
        "    fin_sim = 0\n",
        "\n",
        "    LTLL, LC, LS = [], [], []\n",
        "\n",
        "    ent = simpy.Environment()\n",
        "    boleto = simpy.Resource(ent, capacity=no_cajas)\n",
        "    ent.process(cine(ent, boleto, clientes, texto=False))\n",
        "    ent.run()\n",
        "    LTLL, LC, LS = np.array(LTLL), np.array(LC), np.array(LS)\n",
        "    t_esp = sum(LS - LTLL - LC)\n",
        "    fin_sim = ent.now\n",
        "\n",
        "    long_cola.append(t_esp/fin_sim)\n",
        "    tiempo_esp.append(t_esp/clientes)\n",
        "    uso.append(100 * dur_venta/fin_sim)\n",
        "\n",
        "  return long_cola, tiempo_esp, uso"
      ]
    },
    {
      "cell_type": "code",
      "source": [
        "n = 500 #repetimos el Environment 500 veces\n",
        "a, b, c = exp(n)"
      ],
      "metadata": {
        "id": "jDPAOwrDp8uH"
      },
      "execution_count": 14,
      "outputs": []
    },
    {
      "cell_type": "code",
      "source": [
        "def graf_estado(l, titulo):\n",
        "  g = []\n",
        "  n = len(l)\n",
        "  for i in range(n):\n",
        "    g.append(np.mean(l[:i+1]))\n",
        "  plt.plot(g, 'navy')\n",
        "  m = np.mean(l)\n",
        "  s = np.std(l, ddof=1)\n",
        "  plt.hlines(m, 0, n, color='r', linestyles='dotted')\n",
        "  plt.hlines(m + 1.96*np.std(l)/np.sqrt(n), 0, n, color='g', linestyles='dashed')\n",
        "  plt.hlines(m - 1.96*np.std(l)/np.sqrt(n), 0, n, color='g', linestyles='dashed')\n",
        "  plt.title(titulo)\n",
        "  plt.xlabel('iteraciones')\n",
        "  plt.show()\n",
        "  return m"
      ],
      "metadata": {
        "id": "CaiMEHKSp_E9"
      },
      "execution_count": 15,
      "outputs": []
    },
    {
      "cell_type": "code",
      "source": [
        "plt.style.use('classic')\n",
        "m1=graf_estado(a, 'Gráfica de la longitud promedio de la cola (fila)')\n",
        "m2=graf_estado(b, 'Gráfica del tiempo de espera promedio')\n",
        "m3=graf_estado(c, 'Gráfica del uso promedio de la instalación')"
      ],
      "metadata": {
        "colab": {
          "base_uri": "https://localhost:8080/",
          "height": 1000
        },
        "id": "_-RpcNAoqBVf",
        "outputId": "6dcfb4d0-39a0-4988-b8a7-2ee16b45a9c6"
      },
      "execution_count": 16,
      "outputs": [
        {
          "output_type": "display_data",
          "data": {
            "text/plain": [
              "<Figure size 640x480 with 1 Axes>"
            ],
            "image/png": "[encoded data removed]"
          },
          "metadata": {}
        },
        {
          "output_type": "display_data",
          "data": {
            "text/plain": [
              "<Figure size 640x480 with 1 Axes>"
            ],
            "image/png": "[encoded data removed]"
          },
          "metadata": {}
        },
        {
          "output_type": "display_data",
          "data": {
            "text/plain": [
              "<Figure size 640x480 with 1 Axes>"
            ],
            "image/png": "[encoded data removed]"
          },
          "metadata": {}
        }
      ]
    },
    {
      "cell_type": "code",
      "source": [
        "print(f'La longitud promedio de la cola (fila) es de: {np.round(m1, cifras)} personas en cola')\n",
        "print(f'El tiempo de espera promedio es de: {np.round(m2, cifras)} minutos')\n",
        "print(f'Uso promedio de la instalación es de: {np.round(m3, cifras)}%')"
      ],
      "metadata": {
        "colab": {
          "base_uri": "https://localhost:8080/"
        },
        "id": "D0a0BLBy2es4",
        "outputId": "cbdcb00d-4766-465d-d6ad-b250177f1782"
      },
      "execution_count": 17,
      "outputs": [
        {
          "output_type": "stream",
          "name": "stdout",
          "text": [
            "La longitud promedio de la cola (fila) es de: 0.16 personas en cola\n",
            "El tiempo de espera promedio es de: 0.88 minutos\n",
            "Uso promedio de la instalación es de: 57.95%\n"
          ]
        }
      ]
    },
    {
      "cell_type": "markdown",
      "source": [
        "Notemos que la diferencia entre la logitud de la cola y el promedio de minutos de espera a diferencia de un dia domingo es logica."
      ],
      "metadata": {
        "id": "N4W-0oUUAfdT"
      }
    },
    {
      "cell_type": "code",
      "source": [
        "print(\"Datos para una funcion estelar en domingo:\")\n",
        "print(dato1)\n",
        "print(dato2)\n",
        "\n",
        "print(\"Datos promedios a traves de los dias:\")\n",
        "print(f'La longitud promedio de la cola (fila) es de: {np.round(m1, cifras)} personas en cola')\n",
        "print(f'El tiempo de espera promedio es de: {np.round(m2, cifras)} minutos')"
      ],
      "metadata": {
        "colab": {
          "base_uri": "https://localhost:8080/"
        },
        "id": "dFSsh6vVAzPn",
        "outputId": "00b3886f-5eda-4cc1-fe71-cefb70d12c92"
      },
      "execution_count": 18,
      "outputs": [
        {
          "output_type": "stream",
          "name": "stdout",
          "text": [
            "Datos para una funcion estelar en domingo:\n",
            "Longitud promedio de la cola (fila): 0.74 personas en cola\n",
            "Tiempo de espera promedio: 2.94 minutos\n",
            "Datos promedios a traves de los dias:\n",
            "La longitud promedio de la cola (fila) es de: 0.16 personas en cola\n",
            "El tiempo de espera promedio es de: 0.88 minutos\n"
          ]
        }
      ]
    },
    {
      "cell_type": "markdown",
      "source": [
        "Se espera que en una funcion estelar en domingo tenga mas personas en cola y el tiempo de espera sea mayor, a diferencia de un dia cualquiera, lo cual se confirma con la experiencia.\n",
        "\n",
        "\n",
        "Ahora se generara un intervalo de confianza para cáda valor A TRAVES DEL TIEMPO."
      ],
      "metadata": {
        "id": "4OgfPFJ3CPzQ"
      }
    },
    {
      "cell_type": "code",
      "source": [
        "def rep(n, nr):\n",
        "  la, lb, lc = [], [], []\n",
        "  for _ in range(nr):\n",
        "    a, b, c = exp(n)\n",
        "    la.append(np.mean(a))\n",
        "    lb.append(np.mean(b))\n",
        "    lc.append(np.mean(c))\n",
        "  return la, lb, lc"
      ],
      "metadata": {
        "id": "FkCYgxSo2nLN"
      },
      "execution_count": 19,
      "outputs": []
    },
    {
      "cell_type": "code",
      "source": [
        "n = 500 #tamaño de la muestra\n",
        "nr = 100 #numero de experimentos\n",
        "a, b, c = rep(n, nr)"
      ],
      "metadata": {
        "id": "GQFAx70y2pf_"
      },
      "execution_count": 20,
      "outputs": []
    },
    {
      "cell_type": "code",
      "source": [
        "from scipy.stats import t\n",
        "ma, mb, mc = np.mean(a), np.mean(b), np.mean(c)\n",
        "sa, sb, sc = np.std(a, ddof=1), np.std(b, ddof=1), np.std(c, ddof=1)\n",
        "t_student = t.ppf(0.975, nr-1)\n",
        "# print(t_student)\n",
        "intervalo_a = (ma - t_student*sa/np.sqrt(nr), ma + t_student*sa/np.sqrt(nr))\n",
        "intervalo_b = (mb - t_student*sb/np.sqrt(nr), mb + t_student*sb/np.sqrt(nr))\n",
        "intervalo_c = (mc - t_student*sc/np.sqrt(nr), mc + t_student*sc/np.sqrt(nr))\n",
        "dec = 5"
      ],
      "metadata": {
        "id": "lLIyi0Q92rbU"
      },
      "execution_count": 21,
      "outputs": []
    },
    {
      "cell_type": "code",
      "source": [
        "print(f'El intervalo de confianza al 95% de la longitud promedio de la cola (fila): {np.round(intervalo_a, dec)} personas en cola')\n",
        "print(f'El intervalo de confianza al 95% del tiempo de espera promedio: {np.round(intervalo_b, dec)} minutos')\n",
        "print(f'El intervalo de confianza al 95% del uso promedio de la instalación: {np.round(intervalo_c, dec)}%')"
      ],
      "metadata": {
        "colab": {
          "base_uri": "https://localhost:8080/"
        },
        "id": "8Ut-Xol92tXt",
        "outputId": "edb3f478-f57b-47b5-d86b-739233b55adb"
      },
      "execution_count": 22,
      "outputs": [
        {
          "output_type": "stream",
          "name": "stdout",
          "text": [
            "El intervalo de confianza al 95% de la longitud promedio de la cola (fila): [0.1674  0.17051] personas en cola\n",
            "El intervalo de confianza al 95% del tiempo de espera promedio: [0.88042 0.89528] minutos\n",
            "El intervalo de confianza al 95% del uso promedio de la instalación: [58.6117  58.97764]%\n"
          ]
        }
      ]
    }
  ]
}